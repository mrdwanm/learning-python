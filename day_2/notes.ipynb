{
 "cells": [
  {
   "cell_type": "markdown",
   "metadata": {},
   "source": [
    "# Tupple\n",
    "\n",
    "- Definisinya \"()\"\n",
    "- Bisa digabungkan\n",
    "- bisa menyimpan beberapa jenis data\n",
    "- data tidak bisa diubah (imutable)"
   ]
  },
  {
   "cell_type": "code",
   "execution_count": 14,
   "metadata": {},
   "outputs": [],
   "source": [
    "a = 1,2,3,4,5,6,(2,3,4),True\n",
    "b = 1,2,3"
   ]
  },
  {
   "cell_type": "code",
   "execution_count": 20,
   "metadata": {},
   "outputs": [
    {
     "name": "stdout",
     "output_type": "stream",
     "text": [
      "(1, 2, 3, 4, 5, 6, (2, 3, 4), True, 1, 2, 3)\n",
      "(1, 2, 3, 4, 5, 6, (2, 3, 4), True, 1, 2, 3, 4, 5, 6, (2, 3, 4), True)\n"
     ]
    },
    {
     "data": {
      "text/plain": [
       "8"
      ]
     },
     "execution_count": 20,
     "metadata": {},
     "output_type": "execute_result"
    }
   ],
   "source": [
    "# menggabungkan 2 tuple\n",
    "print(a + b)\n",
    "\n",
    "#repetisi tuple\n",
    "print(a * 2)\n",
    "\n",
    "# jumlah tuple\n",
    "len(a)"
   ]
  },
  {
   "cell_type": "markdown",
   "metadata": {},
   "source": [
    "## Indexing & Slicing Tupple"
   ]
  },
  {
   "cell_type": "code",
   "execution_count": 36,
   "metadata": {},
   "outputs": [
    {
     "name": "stdout",
     "output_type": "stream",
     "text": [
      "(1, 2, 3, 4, 5, 6, (2, 3, 4))\n",
      "(3, 5)\n",
      "(4, 6, True)\n"
     ]
    }
   ],
   "source": [
    "print(a[:7])\n",
    "print(a[2:5:2])\n",
    "print(a[3::2])"
   ]
  },
  {
   "cell_type": "markdown",
   "metadata": {},
   "source": [
    "# List\n",
    "\n",
    "- Definisinya \"[]\"\n",
    "- Data bisa diubah (mutable)\n",
    "\n",
    ">cons:\n",
    " - List lebih lama diproses dibandingkan Tuple\n",
    "\n",
    "\n",
    "> notes:\n",
    "- append : untuk menambahkan nilai ke dalam list (satu nilai)\n",
    "- extend : untuk menambahkan nilai ke dalam list (lebih dari 1 nilai)\n",
    "- remove : menghapus nilai dengan value \n",
    "- del : menghapus nilai dengan indexing\n",
    "- pop : menghilangkan nilai akhir pada list"
   ]
  },
  {
   "cell_type": "code",
   "execution_count": 47,
   "metadata": {},
   "outputs": [
    {
     "name": "stdout",
     "output_type": "stream",
     "text": [
      "[1, 2, 3, 4, 5]\n"
     ]
    }
   ],
   "source": [
    "list_a = [1,2,3,4,5]\n",
    "print(list_a)"
   ]
  },
  {
   "cell_type": "code",
   "execution_count": 48,
   "metadata": {},
   "outputs": [
    {
     "name": "stdout",
     "output_type": "stream",
     "text": [
      "[1, 2, 3, [1, 2, 3], 5]\n",
      "[1, 2, [1, 2, 3], 5]\n",
      "[2, [1, 2, 3], 5]\n",
      "[2, [1, 2, 3], 5, 5]\n",
      "[2, [1, 2, 3], 5, 5, 6, 7, 8]\n",
      "[2, [1, 2, 3], 5, 5, 6, 7]\n"
     ]
    }
   ],
   "source": [
    "# Update data List\n",
    "list_a[3] = [1,2,3]\n",
    "print(list_a)\n",
    "\n",
    "# Delete data List\n",
    "del list_a[2]\n",
    "print(list_a)\n",
    "\n",
    "# Remove data List\n",
    "list_a.remove(1)\n",
    "print(list_a)\n",
    "\n",
    "# Add data List\n",
    "list_a.append(5)\n",
    "print(list_a)\n",
    "\n",
    "# Add data List\n",
    "list_a.extend([6,7,8])\n",
    "print(list_a)\n",
    "\n",
    "# Remove data list\n",
    "list_a.pop()\n",
    "print(list_a)"
   ]
  },
  {
   "cell_type": "markdown",
   "metadata": {},
   "source": [
    "# Set"
   ]
  },
  {
   "cell_type": "code",
   "execution_count": 50,
   "metadata": {},
   "outputs": [
    {
     "name": "stdout",
     "output_type": "stream",
     "text": [
      "{1, 2, 3, 4, 5, 6}\n"
     ]
    }
   ],
   "source": [
    "set_a = {1,2,3,4,5,6}\n",
    "set_b = {4,2,1,5,3,1}\n",
    "print(set_a)"
   ]
  },
  {
   "cell_type": "code",
   "execution_count": 52,
   "metadata": {},
   "outputs": [
    {
     "data": {
      "text/plain": [
       "True"
      ]
     },
     "execution_count": 52,
     "metadata": {},
     "output_type": "execute_result"
    }
   ],
   "source": [
    "set_a.intersection(set_b)\n",
    "set_a.union(set_b)\n",
    "set_a.difference(set_b)\n",
    "set_a.symmetric_difference(set_b)\n",
    "set_a.issubset(set_b)\n",
    "set_a.issuperset(set_b)"
   ]
  },
  {
   "cell_type": "markdown",
   "metadata": {},
   "source": [
    "# Dictionary"
   ]
  },
  {
   "cell_type": "code",
   "execution_count": 61,
   "metadata": {},
   "outputs": [
    {
     "name": "stdout",
     "output_type": "stream",
     "text": [
      "dict_keys(['nama', 'umur'])\n",
      "dict_values(['saya', 20])\n",
      "dict_items([('nama', 'saya'), ('umur', 20)])\n"
     ]
    }
   ],
   "source": [
    "dict_a = {'nama':'saya', 'umur':20}\n",
    "dict_a['umur']\n",
    "print(dict_a.keys())\n",
    "print(dict_a.values())\n",
    "print(dict_a.items())\n"
   ]
  },
  {
   "cell_type": "code",
   "execution_count": 64,
   "metadata": {},
   "outputs": [
    {
     "name": "stdout",
     "output_type": "stream",
     "text": [
      "('nama', 'saya')\n",
      "('umur', 20)\n"
     ]
    }
   ],
   "source": [
    "d_list = dict_a.items()\n",
    "for i in d_list:\n",
    "    print(i)"
   ]
  }
 ],
 "metadata": {
  "kernelspec": {
   "display_name": "Python 3",
   "language": "python",
   "name": "python3"
  },
  "language_info": {
   "codemirror_mode": {
    "name": "ipython",
    "version": 3
   },
   "file_extension": ".py",
   "mimetype": "text/x-python",
   "name": "python",
   "nbconvert_exporter": "python",
   "pygments_lexer": "ipython3",
   "version": "3.11.6"
  }
 },
 "nbformat": 4,
 "nbformat_minor": 2
}
