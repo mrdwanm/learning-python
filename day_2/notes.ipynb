{
 "cells": [
  {
   "cell_type": "markdown",
   "metadata": {},
   "source": [
    "# Tupple\n",
    "\n",
    "- Definisinya \"()\"\n",
    "- Bisa digabungkan\n",
    "- bisa menyimpan beberapa jenis data\n",
    "- data tidak bisa diubah (imutable)"
   ]
  },
  {
   "cell_type": "code",
   "execution_count": 14,
   "metadata": {},
   "outputs": [],
   "source": [
    "a = 1,2,3,4,5,6,(2,3,4),True\n",
    "b = 1,2,3"
   ]
  },
  {
   "cell_type": "code",
   "execution_count": 20,
   "metadata": {},
   "outputs": [
    {
     "name": "stdout",
     "output_type": "stream",
     "text": [
      "(1, 2, 3, 4, 5, 6, (2, 3, 4), True, 1, 2, 3)\n",
      "(1, 2, 3, 4, 5, 6, (2, 3, 4), True, 1, 2, 3, 4, 5, 6, (2, 3, 4), True)\n"
     ]
    },
    {
     "data": {
      "text/plain": [
       "8"
      ]
     },
     "execution_count": 20,
     "metadata": {},
     "output_type": "execute_result"
    }
   ],
   "source": [
    "# menggabungkan 2 tuple\n",
    "print(a + b)\n",
    "\n",
    "#repetisi tuple\n",
    "print(a * 2)\n",
    "\n",
    "# jumlah tuple\n",
    "len(a)"
   ]
  },
  {
   "cell_type": "markdown",
   "metadata": {},
   "source": [
    "## Indexing & Slicing Tupple"
   ]
  },
  {
   "cell_type": "code",
   "execution_count": 36,
   "metadata": {},
   "outputs": [
    {
     "name": "stdout",
     "output_type": "stream",
     "text": [
      "(1, 2, 3, 4, 5, 6, (2, 3, 4))\n",
      "(3, 5)\n",
      "(4, 6, True)\n"
     ]
    }
   ],
   "source": [
    "print(a[:7])\n",
    "print(a[2:5:2])\n",
    "print(a[3::2])"
   ]
  },
  {
   "cell_type": "markdown",
   "metadata": {},
   "source": [
    "# List\n",
    "\n",
    "- Definisinya \"[]\"\n",
    "- Data bisa diubah (mutable)\n",
    "\n",
    ">cons:\n",
    " - List lebih lama diproses dibandingkan Tuple\n",
    "\n",
    "\n",
    "> notes:\n",
    "- append : untuk menambahkan nilai ke dalam list (satu nilai)\n",
    "- extend : untuk menambahkan nilai ke dalam list (lebih dari 1 nilai)\n",
    "- remove : menghapus nilai dengan value \n",
    "- del : menghapus nilai dengan indexing\n",
    "- pop : menghilangkan nilai akhir pada list"
   ]
  },
  {
   "cell_type": "code",
   "execution_count": 47,
   "metadata": {},
   "outputs": [
    {
     "name": "stdout",
     "output_type": "stream",
     "text": [
      "[1, 2, 3, 4, 5]\n"
     ]
    }
   ],
   "source": [
    "list_a = [1,2,3,4,5]\n",
    "print(list_a)"
   ]
  },
  {
   "cell_type": "code",
   "execution_count": 48,
   "metadata": {},
   "outputs": [
    {
     "name": "stdout",
     "output_type": "stream",
     "text": [
      "[1, 2, 3, [1, 2, 3], 5]\n",
      "[1, 2, [1, 2, 3], 5]\n",
      "[2, [1, 2, 3], 5]\n",
      "[2, [1, 2, 3], 5, 5]\n",
      "[2, [1, 2, 3], 5, 5, 6, 7, 8]\n",
      "[2, [1, 2, 3], 5, 5, 6, 7]\n"
     ]
    }
   ],
   "source": [
    "# Update data List\n",
    "list_a[3] = [1,2,3]\n",
    "print(list_a)\n",
    "\n",
    "# Delete data List\n",
    "del list_a[2]\n",
    "print(list_a)\n",
    "\n",
    "# Remove data List\n",
    "list_a.remove(1)\n",
    "print(list_a)\n",
    "\n",
    "# Add data List\n",
    "list_a.append(5)\n",
    "print(list_a)\n",
    "\n",
    "# Add data List\n",
    "list_a.extend([6,7,8])\n",
    "print(list_a)\n",
    "\n",
    "# Remove data list\n",
    "list_a.pop()\n",
    "print(list_a)"
   ]
  },
  {
   "cell_type": "markdown",
   "metadata": {},
   "source": [
    "# Set"
   ]
  },
  {
   "cell_type": "code",
   "execution_count": 50,
   "metadata": {},
   "outputs": [
    {
     "name": "stdout",
     "output_type": "stream",
     "text": [
      "{1, 2, 3, 4, 5, 6}\n"
     ]
    }
   ],
   "source": [
    "set_a = {1,2,3,4,5,6}\n",
    "set_b = {4,2,1,5,3,1}\n",
    "print(set_a)"
   ]
  },
  {
   "cell_type": "code",
   "execution_count": 52,
   "metadata": {},
   "outputs": [
    {
     "data": {
      "text/plain": [
       "True"
      ]
     },
     "execution_count": 52,
     "metadata": {},
     "output_type": "execute_result"
    }
   ],
   "source": [
    "set_a.intersection(set_b)\n",
    "set_a.union(set_b)\n",
    "set_a.difference(set_b)\n",
    "set_a.symmetric_difference(set_b)\n",
    "set_a.issubset(set_b)\n",
    "set_a.issuperset(set_b)"
   ]
  },
  {
   "cell_type": "markdown",
   "metadata": {},
   "source": [
    "# Dictionary"
   ]
  },
  {
   "cell_type": "code",
   "execution_count": 61,
   "metadata": {},
   "outputs": [
    {
     "name": "stdout",
     "output_type": "stream",
     "text": [
      "dict_keys(['nama', 'umur'])\n",
      "dict_values(['saya', 20])\n",
      "dict_items([('nama', 'saya'), ('umur', 20)])\n"
     ]
    }
   ],
   "source": [
    "dict_a = {'nama':'saya', 'umur':20}\n",
    "dict_a['umur']\n",
    "print(dict_a.keys())\n",
    "print(dict_a.values())\n",
    "print(dict_a.items())\n"
   ]
  },
  {
   "cell_type": "code",
   "execution_count": 64,
   "metadata": {},
   "outputs": [
    {
     "name": "stdout",
     "output_type": "stream",
     "text": [
      "('nama', 'saya')\n",
      "('umur', 20)\n"
     ]
    }
   ],
   "source": [
    "d_list = dict_a.items()\n",
    "for i in d_list:\n",
    "    print(i)"
   ]
  },
  {
   "cell_type": "markdown",
   "metadata": {},
   "source": [
    "# String"
   ]
  },
  {
   "cell_type": "code",
   "execution_count": 67,
   "metadata": {},
   "outputs": [
    {
     "name": "stdout",
     "output_type": "stream",
     "text": [
      "Contoh String\n",
      "Contoh String\n",
      "Contoh String\n",
      "Jum'at\n",
      "1//2//2019\n"
     ]
    }
   ],
   "source": [
    "my_str = 'Contoh String'\n",
    "my_str_2 = \"Contoh String\"\n",
    "my_str_3 = '''Contoh String'''\n",
    "my_str_4 = 'Jum\\'at'\n",
    "my_str_5 = '1//2//2019'\n",
    "\n",
    "print(my_str)\n",
    "print(my_str_2)\n",
    "print(my_str_3)\n",
    "print(my_str_4)\n",
    "print(my_str_5)"
   ]
  },
  {
   "cell_type": "markdown",
   "metadata": {},
   "source": [
    "## String Format"
   ]
  },
  {
   "cell_type": "code",
   "execution_count": 74,
   "metadata": {},
   "outputs": [
    {
     "name": "stdout",
     "output_type": "stream",
     "text": [
      "4 * 5 = 20\n",
      "4 * 5 = 20\n",
      "4 * 5 = 20\n"
     ]
    }
   ],
   "source": [
    "template = \"{} * {} = {}\"\n",
    "a = 4\n",
    "b = 5\n",
    "\n",
    "print(template.format(a,b,a*b))\n",
    "print(f\"{a} * {b} = {a*b}\")\n",
    "\n",
    "template_2 = \"%d * %d = %d\"\n",
    "print(template_2 % (a,b,a*b))"
   ]
  },
  {
   "cell_type": "code",
   "execution_count": 77,
   "metadata": {},
   "outputs": [
    {
     "data": {
      "text/plain": [
       "['__add__',\n",
       " '__class__',\n",
       " '__contains__',\n",
       " '__delattr__',\n",
       " '__dir__',\n",
       " '__doc__',\n",
       " '__eq__',\n",
       " '__format__',\n",
       " '__ge__',\n",
       " '__getattribute__',\n",
       " '__getitem__',\n",
       " '__getnewargs__',\n",
       " '__getstate__',\n",
       " '__gt__',\n",
       " '__hash__',\n",
       " '__init__',\n",
       " '__init_subclass__',\n",
       " '__iter__',\n",
       " '__le__',\n",
       " '__len__',\n",
       " '__lt__',\n",
       " '__mod__',\n",
       " '__mul__',\n",
       " '__ne__',\n",
       " '__new__',\n",
       " '__reduce__',\n",
       " '__reduce_ex__',\n",
       " '__repr__',\n",
       " '__rmod__',\n",
       " '__rmul__',\n",
       " '__setattr__',\n",
       " '__sizeof__',\n",
       " '__str__',\n",
       " '__subclasshook__',\n",
       " 'capitalize',\n",
       " 'casefold',\n",
       " 'center',\n",
       " 'count',\n",
       " 'encode',\n",
       " 'endswith',\n",
       " 'expandtabs',\n",
       " 'find',\n",
       " 'format',\n",
       " 'format_map',\n",
       " 'index',\n",
       " 'isalnum',\n",
       " 'isalpha',\n",
       " 'isascii',\n",
       " 'isdecimal',\n",
       " 'isdigit',\n",
       " 'isidentifier',\n",
       " 'islower',\n",
       " 'isnumeric',\n",
       " 'isprintable',\n",
       " 'isspace',\n",
       " 'istitle',\n",
       " 'isupper',\n",
       " 'join',\n",
       " 'ljust',\n",
       " 'lower',\n",
       " 'lstrip',\n",
       " 'maketrans',\n",
       " 'partition',\n",
       " 'removeprefix',\n",
       " 'removesuffix',\n",
       " 'replace',\n",
       " 'rfind',\n",
       " 'rindex',\n",
       " 'rjust',\n",
       " 'rpartition',\n",
       " 'rsplit',\n",
       " 'rstrip',\n",
       " 'split',\n",
       " 'splitlines',\n",
       " 'startswith',\n",
       " 'strip',\n",
       " 'swapcase',\n",
       " 'title',\n",
       " 'translate',\n",
       " 'upper',\n",
       " 'zfill']"
      ]
     },
     "execution_count": 77,
     "metadata": {},
     "output_type": "execute_result"
    }
   ],
   "source": [
    "dir(my_str)"
   ]
  },
  {
   "cell_type": "code",
   "execution_count": 91,
   "metadata": {},
   "outputs": [
    {
     "name": "stdout",
     "output_type": "stream",
     "text": [
      "nasi goreng,ayam goreng,es jeruk\n",
      "['nasi goreng', 'ayam goreng', 'es jeruk']\n"
     ]
    }
   ],
   "source": [
    "pesanan = \"nasi goreng,ayam goreng,es jeruk\"\n",
    "pesanan_1 = pesanan.split(',')\n",
    "print(pesanan)\n",
    "print(pesanan_1)"
   ]
  }
 ],
 "metadata": {
  "kernelspec": {
   "display_name": "Python 3",
   "language": "python",
   "name": "python3"
  },
  "language_info": {
   "codemirror_mode": {
    "name": "ipython",
    "version": 3
   },
   "file_extension": ".py",
   "mimetype": "text/x-python",
   "name": "python",
   "nbconvert_exporter": "python",
   "pygments_lexer": "ipython3",
   "version": "3.11.6"
  }
 },
 "nbformat": 4,
 "nbformat_minor": 2
}
